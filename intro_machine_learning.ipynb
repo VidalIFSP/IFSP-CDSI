{
  "cells": [
    {
      "cell_type": "markdown",
      "metadata": {
        "colab_type": "text",
        "id": "view-in-github"
      },
      "source": [
        "<a href=\"https://colab.research.google.com/github/Szaboltz/data_science_ads/blob/master/intro_machine_learning.ipynb\" target=\"_parent\"><img src=\"https://colab.research.google.com/assets/colab-badge.svg\" alt=\"Open In Colab\"/></a>"
      ]
    },
    {
      "cell_type": "code",
      "execution_count": 17,
      "metadata": {
        "id": "rk7F4QlPxBsd"
      },
      "outputs": [],
      "source": [
        "import pandas as pd"
      ]
    },
    {
      "cell_type": "code",
      "execution_count": 18,
      "metadata": {
        "colab": {
          "base_uri": "https://localhost:8080/"
        },
        "id": "LBezRIKTFEvM",
        "outputId": "d60a05e1-821b-413d-862e-cdcebae2f0ee"
      },
      "outputs": [
        {
          "name": "stdout",
          "output_type": "stream",
          "text": [
            "Drive already mounted at /content/drive; to attempt to forcibly remount, call drive.mount(\"/content/drive\", force_remount=True).\n"
          ]
        }
      ],
      "source": [
        "from google.colab import drive\n",
        "drive.mount('/content/drive')\n"
      ]
    },
    {
      "cell_type": "code",
      "execution_count": 19,
      "metadata": {
        "id": "uMCkQrkAFKBd"
      },
      "outputs": [],
      "source": [
        "flags = pd.read_csv('/content/drive/MyDrive/CDSI/Source/flags.csv')"
      ]
    },
    {
      "cell_type": "code",
      "execution_count": 20,
      "metadata": {
        "id": "u-B2X_oxFSR9"
      },
      "outputs": [],
      "source": [
        "# Step 1\n",
        "# Conversão dos atributos do grupo 2\n",
        "# de categoricos não binarios\n",
        "# para caegoricos binarios\n",
        "\n",
        "\n",
        "for c in flags.columns:\n",
        "  if c in ['landmass', 'zone', 'language', 'religion', 'mainhue', 'topleft', 'botright']:\n",
        "    dummies = pd.get_dummies(flags[c], prefix=c)\n",
        "    flags = flags.join(dummies)\n",
        "\n",
        "# step 2\n",
        "# normalzação dos atributos do grupo 3 e 4 de numero continuos e discretos para numeros com valores na faixa entre 0 e 1\n",
        "\n",
        "for c in flags.columns:\n",
        "  if c in ['area', 'population', 'bars', 'stripes', 'colours', 'circles', 'crosses', 'saltires', 'quarters', 'sunstars']:\n",
        "    c_max = max(flags[c])\n",
        "    c_min = min(flags[c])\n",
        "    flags[c] = (flags[c] - c_min) / (c_max - c_min)\n",
        "\n",
        "\n",
        "#step 3\n",
        "# exclusao dos atributos indesejados\n",
        "flags = flags.drop(columns=['landmass', 'zone', 'language', 'religion', 'mainhue', 'topleft', 'botright', 'name'])\n",
        "\n",
        "\n",
        "# step 4\n",
        "# imprimir a configuração final de flags\n"
      ]
    },
    {
      "cell_type": "code",
      "execution_count": 24,
      "metadata": {
        "id": "1A1mT_bzFkq_"
      },
      "outputs": [],
      "source": [
        "flags.to_csv('/content/drive/MyDrive/CDSI/Source/flags_final.csv', index=False)"
      ]
    }
  ],
  "metadata": {
    "colab": {
      "authorship_tag": "ABX9TyMnwkgkaKlIpjowlxXJpKG1",
      "include_colab_link": true,
      "provenance": []
    },
    "kernelspec": {
      "display_name": "Python 3",
      "name": "python3"
    },
    "language_info": {
      "name": "python"
    }
  },
  "nbformat": 4,
  "nbformat_minor": 0
}
