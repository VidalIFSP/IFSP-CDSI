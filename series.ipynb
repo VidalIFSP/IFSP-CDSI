{
  "nbformat": 4,
  "nbformat_minor": 0,
  "metadata": {
    "colab": {
      "provenance": [],
      "authorship_tag": "ABX9TyM7Qg1jpO0p0GVfROV55IeX",
      "include_colab_link": true
    },
    "kernelspec": {
      "name": "python3",
      "display_name": "Python 3"
    },
    "language_info": {
      "name": "python"
    }
  },
  "cells": [
    {
      "cell_type": "markdown",
      "metadata": {
        "id": "view-in-github",
        "colab_type": "text"
      },
      "source": [
        "<a href=\"https://colab.research.google.com/github/Luc4sL4idens/CIENCIA-DE-DADOS-E-SISTEMAS-INTELIGENTE/blob/main/series.ipynb\" target=\"_parent\"><img src=\"https://colab.research.google.com/assets/colab-badge.svg\" alt=\"Open In Colab\"/></a>"
      ]
    },
    {
      "cell_type": "code",
      "execution_count": 1,
      "metadata": {
        "id": "7AkjPREFdTl-"
      },
      "outputs": [],
      "source": [
        "import pandas as pd"
      ]
    },
    {
      "cell_type": "code",
      "source": [
        "# Cria a Serie notas\n",
        "grades = pd.Series([7.6, 5.0, 9.5, 6.4])\n",
        "\n",
        "# Cria a Series alunos\n",
        "lst_registration = ['M01','M02','M03','M04']\n",
        "lst_names = ['bob', 'dayse', 'bill', 'Cris']\n",
        "students = pd.Series(lst_names, index=lst_registration)\n",
        "\n",
        "print(grades)\n",
        "print('-------------------------------------------------')\n",
        "print(students)\n"
      ],
      "metadata": {
        "colab": {
          "base_uri": "https://localhost:8080/"
        },
        "id": "PBtKB2VxeF4K",
        "outputId": "b1e343c6-72f5-4694-c54f-a30f13885aee"
      },
      "execution_count": 2,
      "outputs": [
        {
          "output_type": "stream",
          "name": "stdout",
          "text": [
            "0    7.6\n",
            "1    5.0\n",
            "2    9.5\n",
            "3    6.4\n",
            "dtype: float64\n",
            "-------------------------------------------------\n",
            "M01      bob\n",
            "M02    dayse\n",
            "M03     bill\n",
            "M04     Cris\n",
            "dtype: object\n"
          ]
        }
      ]
    },
    {
      "cell_type": "code",
      "source": [
        "# outra forma de criação de Series - a partir de um dicionário\n",
        "dic_students = ({'M01':'bob', 'M02':'dayse', 'M03':'bill', 'M04':'Cris'})\n",
        "students2 = pd.Series(dic_students)\n",
        "print(students)"
      ],
      "metadata": {
        "id": "dcEIBVCEgYtE"
      },
      "execution_count": null,
      "outputs": []
    },
    {
      "cell_type": "code",
      "source": [
        "# Propriedades básicas das Séries\n",
        "students = pd.Series({'M01':'bob', 'M02':'dayse', 'M03':'bill', 'M04':'Cris'})\n",
        "\n",
        "# Atribue nomes p/ vetores de dados e rotulos (indice)\n",
        "students.name = 'alunos'\n",
        "students.index.name = 'matricula'\n",
        "\n",
        "print(students)\n",
        "\n",
        "size = students.size\n",
        "print('tamanho: ', size)\n",
        "\n",
        "data = students.values\n",
        "print('dados: ', data)\n",
        "\n",
        "labels = students.index\n",
        "print('rótulos', labels)\n",
        "\n",
        "students_type = type(students)\n",
        "print('tipo', students_type)\n",
        "\n",
        "students_dtype = students.dtype\n",
        "print('dtype Series', students_dtype)\n",
        "\n",
        "students_idx_dtype = students.index.dtype\n",
        "print('dtype vetor de dados', students_idx_dtype)\n"
      ],
      "metadata": {
        "colab": {
          "base_uri": "https://localhost:8080/"
        },
        "id": "JsVI6sbDhZC9",
        "outputId": "4f25821b-6f0b-42a5-b6ee-f8926f933f69"
      },
      "execution_count": 4,
      "outputs": [
        {
          "output_type": "stream",
          "name": "stdout",
          "text": [
            "matricula\n",
            "M01      bob\n",
            "M02    dayse\n",
            "M03     bill\n",
            "M04     Cris\n",
            "Name: alunos, dtype: object\n",
            "tamanho:  4\n",
            "dados:  ['bob' 'dayse' 'bill' 'Cris']\n",
            "rótulos Index(['M01', 'M02', 'M03', 'M04'], dtype='object', name='matricula')\n",
            "tipo <class 'pandas.core.series.Series'>\n",
            "dtype Series object\n",
            "dtype vetor de dados object\n"
          ]
        }
      ]
    },
    {
      "cell_type": "code",
      "source": [
        "# indexação booleano\n",
        "\n",
        "# Obtem os index\n",
        "idx_approved = grades[grades >=7].index\n",
        "\n",
        "# imprimi os alunos aprovados\n",
        "\n",
        "print('aluno aprovados')\n",
        "# print(students[idx_approved])\n",
        "print(students.iloc[idx_approved])"
      ],
      "metadata": {
        "colab": {
          "base_uri": "https://localhost:8080/"
        },
        "id": "onaPqZZqlKRj",
        "outputId": "5feb1e92-2163-4f7d-a157-77188d024c13"
      },
      "execution_count": 8,
      "outputs": [
        {
          "output_type": "stream",
          "name": "stdout",
          "text": [
            "aluno aprovados\n",
            "matricula\n",
            "M01     bob\n",
            "M03    bill\n",
            "Name: alunos, dtype: object\n"
          ]
        }
      ]
    },
    {
      "cell_type": "code",
      "source": [
        "# Buscas em Series\n",
        "\n",
        "has_M01 = 'M01' in students\n",
        "print(has_M01)\n",
        "\n",
        "has_M05 = 'M05' in students\n",
        "print(has_M05)"
      ],
      "metadata": {
        "colab": {
          "base_uri": "https://localhost:8080/"
        },
        "id": "2IBWRrspmG6I",
        "outputId": "86fa4e25-84e8-4577-eba2-4746d2892d95"
      },
      "execution_count": 9,
      "outputs": [
        {
          "output_type": "stream",
          "name": "stdout",
          "text": [
            "True\n",
            "False\n"
          ]
        }
      ]
    },
    {
      "cell_type": "code",
      "source": [
        "# Inserir, remover, alterar\n",
        "\n",
        "print(students, '\\n')\n",
        "\n",
        "students['M55'] = 'Rakesh'\n",
        "print(students, '\\n')\n",
        "\n",
        "students['M55'] = 'Rakesh2'\n",
        "print(students, '\\n')\n",
        "\n",
        "students = students.drop('M55')\n",
        "#del students['M55']\n",
        "print(students, '\\n')"
      ],
      "metadata": {
        "colab": {
          "base_uri": "https://localhost:8080/"
        },
        "id": "QMX5OxKjqbw1",
        "outputId": "39219b30-f105-4a0e-bff0-9885c0a6581d"
      },
      "execution_count": 11,
      "outputs": [
        {
          "output_type": "stream",
          "name": "stdout",
          "text": [
            "matricula\n",
            "M01      bob\n",
            "M02    dayse\n",
            "M03     bill\n",
            "M04     Cris\n",
            "Name: alunos, dtype: object \n",
            "\n",
            "matricula\n",
            "M01       bob\n",
            "M02     dayse\n",
            "M03      bill\n",
            "M04      Cris\n",
            "M55    Rakesh\n",
            "Name: alunos, dtype: object \n",
            "\n",
            "matricula\n",
            "M01        bob\n",
            "M02      dayse\n",
            "M03       bill\n",
            "M04       Cris\n",
            "M55    Rakesh2\n",
            "Name: alunos, dtype: object \n",
            "\n",
            "matricula\n",
            "M01      bob\n",
            "M02    dayse\n",
            "M03     bill\n",
            "M04     Cris\n",
            "Name: alunos, dtype: object \n",
            "\n"
          ]
        }
      ]
    },
    {
      "cell_type": "code",
      "source": [
        "# Alterar o indice da Séries\n",
        "\n",
        "print(students, '\\n')\n",
        "\n",
        "students.index = [\"M22\",\"M23\",\"M24\",\"M25\"]\n",
        "\n",
        "print(students, '\\n')"
      ],
      "metadata": {
        "colab": {
          "base_uri": "https://localhost:8080/"
        },
        "id": "SPp5F9Wjrkru",
        "outputId": "d7353bd0-184f-44f3-d944-4a82ee631f24"
      },
      "execution_count": 14,
      "outputs": [
        {
          "output_type": "stream",
          "name": "stdout",
          "text": [
            "M22      bob\n",
            "M23    dayse\n",
            "M24     bill\n",
            "M25     Cris\n",
            "Name: alunos, dtype: object \n",
            "\n",
            "M22      bob\n",
            "M23    dayse\n",
            "M24     bill\n",
            "M25     Cris\n",
            "Name: alunos, dtype: object \n",
            "\n"
          ]
        }
      ]
    },
    {
      "cell_type": "code",
      "source": [
        "for student in students: print(student)\n",
        "\n",
        "for position in students.index: print(position)"
      ],
      "metadata": {
        "id": "-kFeRFzasdUk"
      },
      "execution_count": null,
      "outputs": []
    },
    {
      "cell_type": "code",
      "source": [
        "# Operações aritiméticas com computação vetorizada\n",
        "\n",
        "import pandas as pd\n",
        "import numpy as np\n",
        "\n",
        "# cria as Séries s1 e s2\n",
        "\n",
        "s1 = pd.Series([2,4,6])\n",
        "s2 = pd.Series([1,3,5])\n",
        "\n",
        "print(\"s1:\\n\", s1, '\\n')\n",
        "print(\"s2:   \\n\", s2, '\\n')\n",
        "\n",
        "print('s1*s2')\n",
        "print(s1 * s2)\n",
        "\n",
        "print('\\n raiz quadrada')\n",
        "print(np.sqrt(s1))"
      ],
      "metadata": {
        "colab": {
          "base_uri": "https://localhost:8080/"
        },
        "id": "B3uDt_CWtD7Z",
        "outputId": "e199f13e-acf4-4a79-c403-4d6861c57acc"
      },
      "execution_count": 26,
      "outputs": [
        {
          "output_type": "stream",
          "name": "stdout",
          "text": [
            "s1:\n",
            " 0    2\n",
            "1    4\n",
            "2    6\n",
            "dtype: int64 \n",
            "\n",
            "s2:   \n",
            " 0    1\n",
            "1    3\n",
            "2    5\n",
            "dtype: int64 \n",
            "\n",
            "s1*s2\n",
            "0     2\n",
            "1    12\n",
            "2    30\n",
            "dtype: int64\n",
            "\n",
            " raiz quadrada\n",
            "0    1.414214\n",
            "1    2.000000\n",
            "2    2.449490\n",
            "dtype: float64\n"
          ]
        }
      ]
    },
    {
      "cell_type": "code",
      "source": [
        "# valor Nan\n",
        "\n",
        "green = pd.Series({\"BR\":1,\"FR\":0,\"UK\":0})\n",
        "blue = pd.Series({'AR':1, 'BR':1, 'FR':1, 'IT':0, 'UK':1})\n",
        "total  = green + blue\n",
        "print(total)"
      ],
      "metadata": {
        "colab": {
          "base_uri": "https://localhost:8080/"
        },
        "id": "7cYbdFbF2WJ5",
        "outputId": "750c6148-7849-47b3-d1ae-7a7d40f5d350"
      },
      "execution_count": 28,
      "outputs": [
        {
          "output_type": "stream",
          "name": "stdout",
          "text": [
            "AR    NaN\n",
            "BR    2.0\n",
            "FR    1.0\n",
            "IT    NaN\n",
            "UK    1.0\n",
            "dtype: float64\n"
          ]
        }
      ]
    },
    {
      "cell_type": "code",
      "source": [
        "# Indices datetime\n",
        "\n",
        "# cria uma série temporal\n",
        "days = ['10/02/2019', '11/02/2019', '12/02/2019', '13/02/2019', '14/02/2019', '15/02/2019']\n",
        "temp_max = [31,35,34,28,27,27]\n",
        "serie_temporal = pd.Series(temp_max, index=days)\n",
        "\n",
        "\n",
        "# convere tipo do indice para datetime e imprime a série\n",
        "serie_temporal.index = pd.to_datetime(serie_temporal.index,\n",
        "                                      format='%d/%m/%Y')\n",
        "print(serie_temporal)"
      ],
      "metadata": {
        "colab": {
          "base_uri": "https://localhost:8080/"
        },
        "id": "BDqsA4Y_4a7x",
        "outputId": "65a1d29d-bb94-4e1f-85f3-8a3639f7d5bc"
      },
      "execution_count": 30,
      "outputs": [
        {
          "output_type": "stream",
          "name": "stdout",
          "text": [
            "2019-02-10    31\n",
            "2019-02-11    35\n",
            "2019-02-12    34\n",
            "2019-02-13    28\n",
            "2019-02-14    27\n",
            "2019-02-15    27\n",
            "dtype: int64\n"
          ]
        }
      ]
    },
    {
      "cell_type": "code",
      "source": [
        "#indexaçação hierarquica\n",
        "money = ['peso','real','euro','euro','libra']\n",
        "contries = [['america', 'america', 'europa','europa','europa'],\n",
        "            ['AR', 'BR', 'FR', 'IT', 'UK']]\n",
        "lst_countries = pd.Series(money, index=contries)\n",
        "print(lst_countries)\n",
        "print(lst_countries['america'])\n",
        "print(lst_countries[:, 'IT'])\n",
        "print(lst_countries['america']['AR'])\n"
      ],
      "metadata": {
        "colab": {
          "base_uri": "https://localhost:8080/"
        },
        "id": "vNJs_RJW7pPj",
        "outputId": "886b8d26-d560-4610-d74b-5ce7d1a3946d"
      },
      "execution_count": 34,
      "outputs": [
        {
          "output_type": "stream",
          "name": "stdout",
          "text": [
            "america  AR     peso\n",
            "         BR     real\n",
            "europa   FR     euro\n",
            "         IT     euro\n",
            "         UK    libra\n",
            "dtype: object\n",
            "AR    peso\n",
            "BR    real\n",
            "dtype: object\n",
            "europa    euro\n",
            "dtype: object\n",
            "peso\n"
          ]
        }
      ]
    }
  ]
}